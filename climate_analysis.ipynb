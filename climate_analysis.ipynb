{
 "cells": [
  {
   "cell_type": "code",
   "execution_count": 1,
   "metadata": {},
   "outputs": [],
   "source": [
    "%matplotlib inline\n",
    "from matplotlib import style #This will import style from Matplotlib.\n",
    "style.use('fivethirtyeight')#Type of plot we´ll use (FiveThirtyEight) from  https://matplotlib.org/stable/gallery/style_sheets/style_sheets_reference.html\n",
    "import matplotlib.pyplot as plt  #Matplotlib's dependency contains code that allows you to plot data\n"
   ]
  },
  {
   "cell_type": "code",
   "execution_count": 2,
   "metadata": {},
   "outputs": [],
   "source": [
    "import numpy as np\n",
    "import pandas as pd"
   ]
  },
  {
   "cell_type": "code",
   "execution_count": 3,
   "metadata": {},
   "outputs": [],
   "source": [
    "import datetime as dt  #We'll use datetime in this module because we'll need to calculate some data points that have to do with date"
   ]
  },
  {
   "cell_type": "code",
   "execution_count": 4,
   "metadata": {},
   "outputs": [],
   "source": [
    "#Good work! Finally, we'll import a few dependencies from SQLAlchemy."
   ]
  },
  {
   "cell_type": "markdown",
   "metadata": {},
   "source": [
    "# Reflect Tables into SQLAlchemy ORM"
   ]
  },
  {
   "cell_type": "code",
   "execution_count": 5,
   "metadata": {},
   "outputs": [],
   "source": [
    "#We know we want to query a SQLite database, and SQLAlchemy is the best tool to do that. \n",
    "#So we'll need to import dependencies from SQLAlchemy.\n",
    "\n",
    "# Python SQL toolkit and Object Relational Mapper\n",
    "#These dependencies will help us set up a simple database that we'll use later on.\n",
    "import sqlalchemy\n",
    "from sqlalchemy.ext.automap import automap_base\n",
    "from sqlalchemy.orm import Session\n",
    "from sqlalchemy import create_engine, func"
   ]
  },
  {
   "cell_type": "markdown",
   "metadata": {},
   "source": [
    "SQLAlchemy ORM\n",
    "One of the primary features of SQLAlchemy is the Object Relational Mapper, which is commonly referred to as ORM. ORM allows you to create classes in your code that can be mapped to specific tables in a given database. This allows us to create a special type of system called a decoupled system.\n",
    "\n",
    "To understand ORMs and decoupled systems, consider the following scenario. Suppose you are cleaning out the garage, and you find a bunch of wires or ropes that are all knotted together. We would call this a tightly coupled system: all of the different ropes are connected to each other, so if we go to grab just one, the whole mess comes along with it. What the ORM does for us is untangle—or decouple—all of those ropes, so we can use just one of them at a time. When we pick one up, we won't pick up the whole knot; or, if one element breaks, it doesn't affect any of the other cords.\n",
    "\n",
    "Generally speaking, the less coupling in our code, the better. If there are a bunch of relationships between all of your coding components and one of them breaks, everything breaks.\n",
    "\n",
    "The ORM helps us keep our systems decoupled. We'll get into more specific details about how we can keep our code decoupled, but for now, just remember that your references will be to classes in your code instead of specific tables in the database, and that we'll be able to influence each class independently."
   ]
  },
  {
   "cell_type": "markdown",
   "metadata": {},
   "source": [
    "You can compare SQLite databases to a CSV or Excel file: \n",
    "    each SQLite database can have one or more tables with columns and rows, and it is stored as a file on your computer. \n",
    "The key difference between SQLite databases and a CSV or Excel file is that we can write queries for it.\n",
    "\n",
    "The main advantages are:\n",
    "\n",
    "    *It's local. One of the core advantages of SQLite is that it allows you to create databases locally on your computer to support testing and easy prototyping. This is beneficial, because if you want to test something out and you need a database, it's not always the most convenient to set up a SQL database server just to try something out.\n",
    "    \n",
    "    *There's an app for that. Another advantage of SQLite databases are that they can be used on a mobile phone app. Most mobile phone games will use an SQLite database to store certain information about you or your players statistics. While we won't be creating a mobile app in this module, it's still helpful to understand the full context.\n",
    "    \n",
    "    \n",
    "The disadvantages are:\n",
    "\n",
    "    *It's local. If you've used a MYSQL database before, you might have noticed that you can have multiple users access the database. With SQLite, there are no users. SQL is local: stored on one computer or phone. So, only that computer or phone will have access.\n",
    "\n",
    "    *There are fewer security features: one other disadvantage to be aware of is that SQLite doesn't have as many security features as a traditional SQL database. While it's not something specifically to be concerned with for this module, just keep that in mind as you create other databases later on."
   ]
  },
  {
   "cell_type": "code",
   "execution_count": 6,
   "metadata": {},
   "outputs": [],
   "source": [
    "############\n",
    "#Database setup\n",
    "############\n",
    "engine = create_engine(\"sqlite:///hawaii.sqlite\")\n",
    "\n",
    "\n",
    "#Reflecting a database into a new model essentially means to transfer the contents of the database into a different structure of data. \n",
    "# reflect an existing database into a new model\n",
    "Base=automap_base() #In order for your code to function properly, you will need to add this line to your code\n",
    "# reflect the tables\n",
    "Base.prepare(engine,reflect=True)#By adding this code, we'll reflect the schema of our SQLite tables into our code and create mappings.\n"
   ]
  },
  {
   "cell_type": "code",
   "execution_count": 7,
   "metadata": {},
   "outputs": [],
   "source": [
    "#Important\n",
    "#Remember when we talked about keeping our code decoupled? When we reflect tables, \n",
    "    #we create classes that help keep our code separate. \n",
    "#This ensures that our code is separated such that if other classes or systems want to interact with it, \n",
    "    #they can interact with only specific subsets of data instead of the whole dataset."
   ]
  },
  {
   "cell_type": "code",
   "execution_count": 8,
   "metadata": {},
   "outputs": [
    {
     "data": {
      "text/plain": [
       "['measurement', 'station']"
      ]
     },
     "execution_count": 8,
     "metadata": {},
     "output_type": "execute_result"
    }
   ],
   "source": [
    "# We can view all of the classes that automap found\n",
    "Base.classes.keys()\n",
    "\n",
    "#Once we have added the base.prepare() function, we should confirm that the Automap was able to find all of the data in the SQLite database. \n",
    "#We will double-check this by using Base.classes.keys(). This code references the classes that were mapped in each table.\n",
    "\n",
    "    #Base.classes gives us access to all the classes.\n",
    "    #keys() references all the names of the classes.\n",
    "\n",
    "    \n",
    "#These classes help keep our data separate, or decoupled. \n",
    "#Keep in mind that our data is no longer stored in tables, but rather in classes.\n",
    "#The code we will run below enables us to essentially copy, or reflect, our data into different classes instead of database tables."
   ]
  },
  {
   "cell_type": "code",
   "execution_count": 11,
   "metadata": {},
   "outputs": [],
   "source": [
    "# Save references to each table\n",
    "#In order to reference a specific class, we use Base.classes.<class name>. \n",
    "#For example, if we wanted to reference the station class, we would use Base.classes.station.\n",
    "\n",
    "#Since it can be rather cumbersome to type Base.classes every time we want to reference the measurement or station classes, \n",
    "    #we can give the classes new variable names. \n",
    "#In this case, we will create new references for our Measurement class and Station clas. Add these new variables to your code:\n",
    "\n",
    "Measurement = Base.classes.measurement\n",
    "Station = Base.classes.station"
   ]
  },
  {
   "cell_type": "code",
   "execution_count": 12,
   "metadata": {},
   "outputs": [],
   "source": [
    "# Create our session (link) from Python to the DB\n",
    "#Now that we have our references saved to some new variables, let's work on creating a session link to our database.\n",
    "#Let's create a session link to our database with our code.\n",
    "\n",
    "#Our session essentially allows us to query for data.\n",
    "session = Session(engine)\n",
    "\n"
   ]
  },
  {
   "cell_type": "markdown",
   "metadata": {},
   "source": [
    "# Exploratory Climate Analysis"
   ]
  },
  {
   "cell_type": "code",
   "execution_count": null,
   "metadata": {},
   "outputs": [],
   "source": [
    "# Design a query to retrieve the last 12 months of precipitation data and plot the results. \n",
    "#Starting from the last data point in the database. \n",
    "\n",
    "# Calculate the date one year from the last date in data set.\n",
    "\n",
    "# Perform a query to retrieve the data and precipitation scores\n",
    "\n",
    "# Save the query results as a Pandas DataFrame and set the index to the date column\n",
    "\n",
    "# Sort the dataframe by date\n",
    "\n",
    "# Use Pandas Plotting with Matplotlib to plot the data\n"
   ]
  },
  {
   "cell_type": "code",
   "execution_count": null,
   "metadata": {},
   "outputs": [],
   "source": [
    "# Use Pandas to calcualte the summary statistics for the precipitation data\n"
   ]
  },
  {
   "cell_type": "code",
   "execution_count": null,
   "metadata": {},
   "outputs": [],
   "source": [
    "# How many stations are available in this dataset?\n"
   ]
  },
  {
   "cell_type": "code",
   "execution_count": null,
   "metadata": {},
   "outputs": [],
   "source": [
    "# What are the most active stations?\n",
    "# List the stations and the counts in descending order.\n"
   ]
  },
  {
   "cell_type": "code",
   "execution_count": null,
   "metadata": {},
   "outputs": [],
   "source": [
    "# Using the station id from the previous query, calculate the lowest temperature recorded, \n",
    "# highest temperature recorded, and average temperature most active station?\n"
   ]
  },
  {
   "cell_type": "code",
   "execution_count": null,
   "metadata": {},
   "outputs": [],
   "source": [
    "# Choose the station with the highest number of temperature observations.\n",
    "# Query the last 12 months of temperature observation data for this station and plot the results as a histogram\n"
   ]
  },
  {
   "cell_type": "code",
   "execution_count": null,
   "metadata": {},
   "outputs": [],
   "source": [
    "# Write a function called `calc_temps` that will accept start date and end date in the format '%Y-%m-%d' \n",
    "# and return the minimum, average, and maximum temperatures for that range of dates\n"
   ]
  },
  {
   "cell_type": "markdown",
   "metadata": {},
   "source": [
    "# Challenge"
   ]
  },
  {
   "cell_type": "code",
   "execution_count": null,
   "metadata": {},
   "outputs": [],
   "source": []
  }
 ],
 "metadata": {
  "kernelspec": {
   "display_name": "Python 3",
   "language": "python",
   "name": "python3"
  },
  "language_info": {
   "codemirror_mode": {
    "name": "ipython",
    "version": 3
   },
   "file_extension": ".py",
   "mimetype": "text/x-python",
   "name": "python",
   "nbconvert_exporter": "python",
   "pygments_lexer": "ipython3",
   "version": "3.8.5"
  }
 },
 "nbformat": 4,
 "nbformat_minor": 2
}
